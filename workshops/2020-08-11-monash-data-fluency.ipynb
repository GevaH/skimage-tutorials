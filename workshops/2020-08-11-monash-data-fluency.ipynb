{
 "cells": [
  {
   "cell_type": "markdown",
   "metadata": {},
   "source": [
    "# Image analysis in Python with SciPy, scikit-image, and napari\n",
    "\n",
    "<div style=\"border: solid 1px; background: #abcfef; font-size: 150%; padding: 1em; margin: 1em; width: 75%;\">\n",
    "\n",
    "<p>To participate, please follow the preparation instructions at</p>\n",
    "<p>https://github.com/jni/skimage-tutorials/blob/monash-df-2020-08/preparation.md</p>\n",
    "\n",
    "</div>\n",
    "\n",
    "<hr/>\n",
    "TL;DR: Install Python 3.7+, scikit-image, napari, and the Jupyter notebook.  Then clone this repo:\n",
    "\n",
    "```python\n",
    "git clone --depth 1 --single-branch --branch monash-df-2020-08 https://github.com/jni/skimage-tutorials\n",
    "```\n",
    "<hr/>\n",
    "\n",
    "scikit-image is a collection of image processing algorithms for the\n",
    "SciPy ecosystem.  It aims to have a Pythonic API (read: does what you'd expect), \n",
    "is well documented, and provides researchers and practitioners with well-tested,\n",
    "fundamental building blocks for rapidly constructing sophisticated image\n",
    "processing pipelines.\n",
    "\n",
    "In this tutorial, we provide an interactive overview of the library,\n",
    "where participants have the opportunity to try their hand at various\n",
    "image processing challenges.\n",
    "\n",
    "Attendees are expected to have a working knowledge of NumPy, SciPy, and Matplotlib, as well as use of Jupyter Notebooks.\n",
    "\n",
    "Across domains, modalities, and scales of exploration, images form an integral subset of scientific measurements. Despite a deep appeal to human intuition, gaining understanding of image content remains challenging, and often relies on heuristics. Even so, the wealth of knowledge contained inside of images cannot be overstated, and <a href=\"http://scikit-image.org\">scikit-image</a>, along with <a href=\"http://scipy.org\">SciPy</a>, provides a strong foundation upon which to build algorithms and applications for exploring this domain.\n",
    "\n",
    "\n",
    "# Prerequisites\n",
    "\n",
    "Please see the [preparation instructions](https://github.com/jni/skimage-tutorials/blob/monash-df-2020-08/preparation.md).\n",
    "\n",
    "# Schedule\n",
    "\n",
    "- 1:00–1:50: Introduction & [images as NumPy arrays](/notebooks/lectures/00_images_are_arrays.ipynb)\n",
    "- 2:00–2:50: [Filters](/notebooks/lectures/1_image_filters.ipynb)\n",
    "- 3:10–3:50: [Segmentation](/notebooks/lectures/4_segmentation.ipynb)\n",
    "- 4:00–5:00: [3D image analysis example](/notebooks/lectures/three_dimensional_image_processing.ipynb) and Q&A\n",
    "\n",
    "# For later\n",
    "\n",
    "- Check out the other [lectures](/notebooks/lectures)\n",
    "- Some [real world use cases](http://bit.ly/skimage_real_world)\n",
    "\n",
    "\n",
    "# After the workshop\n",
    "\n",
    "We will upload our completed notebooks to the\n",
    "`monash-df-2020-08-completed` branch. You can download it with git using:\n",
    "\n",
    "```\n",
    "git commit -a -m \"Work completed in class\"\n",
    "git fetch origin monash-df-2020-08-completed\n",
    "git switch monash-df-2020-08-completed\n",
    "```\n",
    "\n",
    "Or you can download them directly at:\n",
    "\n",
    "https://github.com/jni/skimage-tutorials/archive/monash-df-2020-08-completed.zip\n",
    "\n",
    "\n",
    "## Stay in touch!\n",
    "\n",
    "- Follow the project's progress [on GitHub](https://github.com/scikit-image/scikit-image).\n",
    "- Ask questions on [image.sc](https://forum.image.sc) (don't forget to tag with #skimage or #scikit-image!)\n",
    "- Visit our [chat room](https://skimage.zulipchat.com)\n",
    "- Ask the team questions on the [mailing list](https://mail.python.org/mailman/listinfo/scikit-image)\n",
    "- [Contribute!](http://scikit-image.org/docs/dev/contribute.html)\n",
    "- Read (and cite!) [our paper](https://peerj.com/articles/453/) (or [this other paper, for skimage in microtomography](https://ascimaging.springeropen.com/articles/10.1186/s40679-016-0031-0))"
   ]
  },
  {
   "cell_type": "code",
   "execution_count": 2,
   "metadata": {},
   "outputs": [
    {
     "name": "stdout",
     "output_type": "stream",
     "text": [
      "[✓] scikit-image  0.18.dev0\n",
      "[✓] numpy         1.18.4\n",
      "[✓] scipy         1.4.1\n",
      "[✓] matplotlib    3.2.1\n",
      "[✓] notebook      6.0.3\n",
      "[✓] scikit-learn  0.23.0rc1\n",
      "[✓] pandas        1.0.3\n",
      "[✓] napari        0.3.0\n"
     ]
    }
   ],
   "source": [
    "%run ../check_setup.py"
   ]
  }
 ],
 "metadata": {
  "kernelspec": {
   "display_name": "Python 3",
   "language": "python",
   "name": "python3"
  },
  "language_info": {
   "codemirror_mode": {
    "name": "ipython",
    "version": 3
   },
   "file_extension": ".py",
   "mimetype": "text/x-python",
   "name": "python",
   "nbconvert_exporter": "python",
   "pygments_lexer": "ipython3",
   "version": "3.8.2"
  },
  "widgets": {
   "state": {},
   "version": "1.1.2"
  }
 },
 "nbformat": 4,
 "nbformat_minor": 1
}
