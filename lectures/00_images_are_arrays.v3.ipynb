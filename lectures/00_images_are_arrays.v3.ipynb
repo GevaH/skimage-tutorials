{
 "metadata": {
  "kernelspec": {
   "display_name": "Python 3",
   "language": "python",
   "name": "python3"
  },
  "language_info": {
   "codemirror_mode": {
    "name": "ipython",
    "version": 3
   },
   "file_extension": ".py",
   "mimetype": "text/x-python",
   "name": "python",
   "nbconvert_exporter": "python",
   "pygments_lexer": "ipython3",
   "version": "3.4.3"
  },
  "name": ""
 },
 "nbformat": 3,
 "nbformat_minor": 0,
 "worksheets": [
  {
   "cells": [
    {
     "cell_type": "code",
     "collapsed": true,
     "input": [
      "from __future__ import division, print_function\n",
      "%matplotlib inline"
     ],
     "language": "python",
     "metadata": {},
     "outputs": [],
     "prompt_number": null
    },
    {
     "cell_type": "heading",
     "level": 1,
     "metadata": {},
     "source": [
      "Images are numpy arrays"
     ]
    },
    {
     "cell_type": "markdown",
     "metadata": {},
     "source": [
      "Images are represented in ``scikit-image`` using standard ``numpy`` arrays.  This allows maximum inter-operability with other libraries in the scientific Python ecosystem, such as ``matplotlib`` and ``scipy``.\n",
      "\n",
      "Let's see how to build a grayscale image as a 2D array:"
     ]
    },
    {
     "cell_type": "code",
     "collapsed": false,
     "input": [
      "import numpy as np\n",
      "from matplotlib import pyplot as plt, cm\n",
      "\n",
      "random_image = np.random.random([500, 500])\n",
      "\n",
      "plt.imshow(random_image, cmap=cm.gray, interpolation='nearest');"
     ],
     "language": "python",
     "metadata": {},
     "outputs": [],
     "prompt_number": null
    },
    {
     "cell_type": "markdown",
     "metadata": {},
     "source": [
      "The same holds for \"real-world\" images:"
     ]
    },
    {
     "cell_type": "code",
     "collapsed": false,
     "input": [
      "from skimage import data\n",
      "\n",
      "coins = data.coins()\n",
      "\n",
      "print(type(coins), coins.dtype, coins.shape)\n",
      "plt.imshow(coins, cmap=cm.gray, interpolation='nearest');"
     ],
     "language": "python",
     "metadata": {},
     "outputs": [],
     "prompt_number": null
    },
    {
     "cell_type": "markdown",
     "metadata": {},
     "source": [
      "A color image is a 3D array, where the last dimension has size 3 and represents the red, green, and blue channels:"
     ]
    },
    {
     "cell_type": "code",
     "collapsed": false,
     "input": [
      "cat = data.chelsea()\n",
      "print(\"Shape:\", cat.shape)\n",
      "print(\"Values min/max:\", cat.min(), cat.max())\n",
      "\n",
      "plt.imshow(cat, interpolation='nearest');"
     ],
     "language": "python",
     "metadata": {},
     "outputs": [],
     "prompt_number": null
    },
    {
     "cell_type": "markdown",
     "metadata": {},
     "source": [
      "These are *just numpy arrays*. Making a red square is easy using just array slicing and manipulation:"
     ]
    },
    {
     "cell_type": "code",
     "collapsed": false,
     "input": [
      "cat[10:110, 10:110, :] = [255, 0, 0]  # [red, green, blue]\n",
      "plt.imshow(cat);"
     ],
     "language": "python",
     "metadata": {},
     "outputs": [],
     "prompt_number": null
    },
    {
     "cell_type": "markdown",
     "metadata": {},
     "source": [
      "Images can also include transparent regions by adding a 4th dimension, called an *alpha layer*."
     ]
    },
    {
     "cell_type": "markdown",
     "metadata": {},
     "source": [
      "## Data types and image values\n",
      "\n",
      "In literature, one finds different conventions for representing image values:\n",
      "\n",
      "```\n",
      "  0 - 255   where  0 is black, 255 is white\n",
      "  0 - 1     where  0 is black, 1 is white\n",
      "```\n",
      "\n",
      "``scikit-image`` supports both conventions--the choice is determined by the\n",
      "data-type of the array.\n",
      "\n",
      "E.g., here, I generate two valid images:"
     ]
    },
    {
     "cell_type": "code",
     "collapsed": false,
     "input": [
      "linear0 = np.linspace(0, 1, 2500).reshape((50, 50))\n",
      "linear1 = np.linspace(0, 255, 2500).reshape((50, 50)).astype(np.uint8)\n",
      "\n",
      "print(\"Linear0:\", linear0.dtype, linear0.min(), linear0.max())\n",
      "print(\"Linear1:\", linear1.dtype, linear1.min(), linear1.max())\n",
      "\n",
      "fig, (ax0, ax1) = plt.subplots(1, 2)\n",
      "ax0.imshow(linear0, cmap='gray')\n",
      "ax1.imshow(linear1, cmap='gray');"
     ],
     "language": "python",
     "metadata": {},
     "outputs": [],
     "prompt_number": null
    },
    {
     "cell_type": "markdown",
     "metadata": {},
     "source": [
      "The library is designed in such a way that any data-type is allowed as input,\n",
      "as long as the range is correct (0-1 for floating point images, 0-255 for unsigned bytes,\n",
      "0-65535 for unsigned 16-bit integers).\n",
      "\n",
      "This is achieved through the use of a few utility functions, such as ``img_as_float`` and ``img_as_ubyte``:"
     ]
    },
    {
     "cell_type": "code",
     "collapsed": false,
     "input": [
      "from skimage import img_as_float, img_as_ubyte\n",
      "\n",
      "image = data.chelsea()\n",
      "\n",
      "image_float = img_as_float(image)\n",
      "image_ubyte = img_as_ubyte(image)\n",
      "\n",
      "print(\"type, min, max:\", image_float.dtype, image_float.min(), image_float.max())\n",
      "print(\"type, min, max:\", image_ubyte.dtype, image_ubyte.min(), image_ubyte.max())\n",
      "\n",
      "print(\"231/255 =\", 231/255.)"
     ],
     "language": "python",
     "metadata": {},
     "outputs": [],
     "prompt_number": null
    },
    {
     "cell_type": "markdown",
     "metadata": {},
     "source": [
      "Your code would then typically look like this:\n",
      "\n",
      "```python\n",
      "def my_function(any_image):\n",
      "   float_image = img_as_float(any_image)\n",
      "   # Proceed, knowing image is in [0, 1]\n",
      "```\n",
      "\n",
      "We recommend using the floating point representation, given that\n",
      "``scikit-image`` mostly uses that format internally."
     ]
    },
    {
     "cell_type": "heading",
     "level": 2,
     "metadata": {},
     "source": [
      "Displaying images using matplotlib"
     ]
    },
    {
     "cell_type": "markdown",
     "metadata": {},
     "source": [
      "Before we get started, a quick note about plotting images---specifically, plotting gray-scale images with Matplotlib. First, let's grab an example image from `scikit-image`."
     ]
    },
    {
     "cell_type": "code",
     "collapsed": true,
     "input": [
      "from skimage import data\n",
      "\n",
      "image = data.camera()"
     ],
     "language": "python",
     "metadata": {},
     "outputs": [],
     "prompt_number": null
    },
    {
     "cell_type": "markdown",
     "metadata": {},
     "source": [
      "Also, we'll want to make sure we have numpy and matplotlib imported."
     ]
    },
    {
     "cell_type": "code",
     "collapsed": true,
     "input": [
      "import matplotlib.pyplot as plt\n",
      "import numpy as np"
     ],
     "language": "python",
     "metadata": {},
     "outputs": [],
     "prompt_number": null
    },
    {
     "cell_type": "markdown",
     "metadata": {},
     "source": [
      "If we plot a gray-scale image using the default colormap, \"jet\", and a gray-scale color\n",
      "map, \"gray\", you can easily see the difference:"
     ]
    },
    {
     "cell_type": "code",
     "collapsed": false,
     "input": [
      "fig, (ax_jet, ax_gray) = plt.subplots(ncols=2, figsize=(10, 5))\n",
      "ax_jet.imshow(image, cmap='jet')\n",
      "ax_gray.imshow(image, cmap='gray');"
     ],
     "language": "python",
     "metadata": {},
     "outputs": [],
     "prompt_number": null
    },
    {
     "cell_type": "markdown",
     "metadata": {},
     "source": [
      "We can get a better idea of the ill effects by zooming into the man's face."
     ]
    },
    {
     "cell_type": "code",
     "collapsed": false,
     "input": [
      "face = image[80:160, 200:280]\n",
      "fig, (ax_jet, ax_gray) = plt.subplots(ncols=2)\n",
      "ax_jet.imshow(face, cmap='jet')\n",
      "ax_gray.imshow(face, cmap='gray');"
     ],
     "language": "python",
     "metadata": {},
     "outputs": [],
     "prompt_number": null
    },
    {
     "cell_type": "markdown",
     "metadata": {},
     "source": [
      "Notice how the face looks distorted and splotchy with the \"jet\" colormap. Also, this colormap distorts the concepts of light and dark, and there are artificial boundaries created by the different color hues. Is that a beauty mark on the man's upper lip? No, it's just an artifact of this ridiculous colormap.\n",
      "\n",
      "Here's another example:"
     ]
    },
    {
     "cell_type": "code",
     "collapsed": false,
     "input": [
      "X, Y = np.ogrid[-5:5:0.1, -5:5:0.1]\n",
      "R = np.sqrt(X**2 + Y**2)\n",
      "\n",
      "fig, (ax_jet, ax_gray) = plt.subplots(1, 2)\n",
      "ax_jet.imshow(R, cmap='jet')\n",
      "ax_gray.imshow(R, cmap='gray');"
     ],
     "language": "python",
     "metadata": {},
     "outputs": [],
     "prompt_number": null
    },
    {
     "cell_type": "markdown",
     "metadata": {},
     "source": [
      "Woah!  See all those non-existing contours?\n",
      "\n",
      "You can add the following setting at the top of any script\n",
      "to change the default colormap:"
     ]
    },
    {
     "cell_type": "code",
     "collapsed": true,
     "input": [
      "plt.rcParams['image.cmap'] = 'gray'"
     ],
     "language": "python",
     "metadata": {},
     "outputs": [],
     "prompt_number": null
    },
    {
     "cell_type": "markdown",
     "metadata": {},
     "source": [
      "Don't worry: color images are unaffected by this change.\n",
      "\n",
      "In addition, we'll set the interpolation to 'nearest neighborhood' so that it's easier to distinguish individual pixels in your image (the default is 'bicubic'--see the exploration below)."
     ]
    },
    {
     "cell_type": "code",
     "collapsed": true,
     "input": [
      "plt.rcParams['image.interpolation'] = 'nearest'"
     ],
     "language": "python",
     "metadata": {},
     "outputs": [],
     "prompt_number": null
    },
    {
     "cell_type": "markdown",
     "metadata": {},
     "source": [
      "You can also set both of these explicitly in the ``imshow`` command:"
     ]
    },
    {
     "cell_type": "code",
     "collapsed": false,
     "input": [
      "plt.imshow(R, cmap='gray', interpolation='nearest');"
     ],
     "language": "python",
     "metadata": {},
     "outputs": [],
     "prompt_number": null
    },
    {
     "cell_type": "heading",
     "level": 2,
     "metadata": {},
     "source": [
      "Interactive demo: interpolation and color maps"
     ]
    },
    {
     "cell_type": "code",
     "collapsed": false,
     "input": [
      "from IPython.html.widgets import interact, fixed\n",
      "from matplotlib import cm as colormaps\n",
      "\n",
      "@interact(image=fixed(face),\n",
      "          cmap=sorted([c for c in colormaps.datad.keys() if not c.endswith('_r')],\n",
      "                      key=lambda x: x.lower()),\n",
      "          interpolation=['nearest', 'bilinear', 'bicubic',\n",
      "                         'spline16', 'spline36', 'hanning', 'hamming',\n",
      "                         'hermite', 'kaiser', 'quadric', 'catrom',\n",
      "                         'gaussian', 'bessel', 'mitchell', 'sinc', 'lanczos'])\n",
      "def imshow_params(image, cmap='jet', interpolation='bicubic'):\n",
      "    fig, axes = plt.subplots(1, 5, figsize=(15, 4))\n",
      "    \n",
      "    axes[0].imshow(image, cmap='gray', interpolation='nearest')\n",
      "    axes[0].set_title('Original')\n",
      "    \n",
      "    axes[1].imshow(image[:5, :5], cmap='gray', interpolation='nearest')\n",
      "    axes[1].set_title('Top 5x5 block')\n",
      "    axes[1].set_xlabel('No interpolation')\n",
      "\n",
      "    axes[2].imshow(image, cmap=cmap, interpolation=interpolation)\n",
      "    axes[2].set_title('%s colormap' % cmap)\n",
      "    axes[2].set_xlabel('%s interpolation' % interpolation)\n",
      "    \n",
      "    axes[3].imshow(image[:5, :5], cmap=cmap, interpolation=interpolation)\n",
      "    axes[3].set_title('%s colormap' % cmap)\n",
      "    axes[3].set_xlabel('%s interpolation' % interpolation)\n",
      "    \n",
      "    axes[4].imshow(R, cmap=cmap, interpolation=interpolation)\n",
      "    axes[4].set_title('%s colormap' % cmap)\n",
      "    axes[4].set_xlabel('%s interpolation' % interpolation)\n",
      "    \n",
      "    for ax in axes:\n",
      "        ax.set_xticks([])\n",
      "        ax.set_yticks([])"
     ],
     "language": "python",
     "metadata": {},
     "outputs": [],
     "prompt_number": null
    },
    {
     "cell_type": "markdown",
     "metadata": {},
     "source": [
      "## Image I/O\n",
      "\n",
      "Mostly, we won't be using input images from the scikit-image example data sets.  Those images are typically stored in JPEG or PNG format.  Since scikit-image operates on NumPy arrays, *any* image reader library that provides arrays will do.  Options include matplotlib, pillow, imageio, imread, etc.\n",
      "\n",
      "scikit-image conveniently wraps many of these in the `io` submodule, and will use whatever option is available:"
     ]
    },
    {
     "cell_type": "code",
     "collapsed": false,
     "input": [
      "from skimage import io\n",
      "\n",
      "image = io.imread('../images/balloon.jpg')\n",
      "\n",
      "print(type(image))\n",
      "plt.imshow(image);"
     ],
     "language": "python",
     "metadata": {},
     "outputs": [],
     "prompt_number": null
    },
    {
     "cell_type": "markdown",
     "metadata": {},
     "source": [
      "We also have the ability to load multiple images, or multi-layer TIFF images:"
     ]
    },
    {
     "cell_type": "code",
     "collapsed": false,
     "input": [
      "ic = io.imread_collection('../images/*.png')\n",
      "\n",
      "print(type(ic), '\\n\\n', ic)"
     ],
     "language": "python",
     "metadata": {},
     "outputs": [],
     "prompt_number": null
    },
    {
     "cell_type": "code",
     "collapsed": false,
     "input": [
      "f, axes = plt.subplots(nrows=1, ncols=len(ic), figsize=(15, 10))\n",
      "\n",
      "for i, image in enumerate(ic):\n",
      "    axes[i].imshow(image, cmap='gray')\n",
      "    axes[i].axis('off')"
     ],
     "language": "python",
     "metadata": {},
     "outputs": [],
     "prompt_number": null
    },
    {
     "cell_type": "markdown",
     "metadata": {},
     "source": [
      "## <span class=\"exercize\">Exercise: draw the letter H</span>\n",
      "\n",
      "Define a function that takes as input an RGB image and a pair of coordinates (row, column), and returns the image (optionally a copy) with green letter H overlaid at those coordinates. The coordinates should point to the top-left corner of the H.\n",
      "\n",
      "The arms and strut of the H should have a width of 3 pixels, and the H itself should have a height of 24 pixels and width of 20 pixels.\n",
      "\n",
      "Start with the following template:"
     ]
    },
    {
     "cell_type": "code",
     "collapsed": false,
     "input": [
      "def draw_H(image, coords, color=(0.8, 0.8, 0.8), in_place=True):\n",
      "    out = image.copy()\n",
      "    # your code goes here\n",
      "    return out"
     ],
     "language": "python",
     "metadata": {},
     "outputs": [],
     "prompt_number": null
    },
    {
     "cell_type": "markdown",
     "metadata": {},
     "source": [
      "Test your function like so:"
     ]
    },
    {
     "cell_type": "code",
     "collapsed": false,
     "input": [
      "cat = data.chelsea()\n",
      "cat_H = draw_H(cat, (50, -50))\n",
      "plt.imshow(cat_H);"
     ],
     "language": "python",
     "metadata": {},
     "outputs": [],
     "prompt_number": null
    },
    {
     "cell_type": "markdown",
     "metadata": {},
     "source": [
      "## <span class=\"exercize\">Exercise: RGB intensity plot</span>\n",
      "\n",
      "Plot the intensity of each channel of the image along a given row.\n",
      "Start with the following template:"
     ]
    },
    {
     "cell_type": "code",
     "collapsed": false,
     "input": [
      "def plot_intensity(image, row):\n",
      "    # Fill in the three lines below\n",
      "    red_values = ...\n",
      "    green_values = ...\n",
      "    blue_values = ...\n",
      "    \n",
      "    plt.figure()\n",
      "    plt.plot(red_values)\n",
      "    plt.plot(green_values)\n",
      "    plt.plot(blue_values)\n",
      "    \n",
      "    pass"
     ],
     "language": "python",
     "metadata": {},
     "outputs": [],
     "prompt_number": null
    },
    {
     "cell_type": "markdown",
     "metadata": {},
     "source": [
      "Test your function here:"
     ]
    },
    {
     "cell_type": "code",
     "collapsed": false,
     "input": [
      "plot_intensity(cat, 50)\n",
      "plot_intensity(cat, 100)"
     ],
     "language": "python",
     "metadata": {},
     "outputs": [],
     "prompt_number": null
    },
    {
     "cell_type": "markdown",
     "metadata": {},
     "source": [
      "---\n",
      "\n",
      "<div style=\"height: 400px;\"></div>"
     ]
    },
    {
     "cell_type": "code",
     "collapsed": false,
     "input": [
      "%reload_ext load_style\n",
      "%load_style ../themes/tutorial.css"
     ],
     "language": "python",
     "metadata": {},
     "outputs": [
      {
       "html": [
        "<style>\n",
        ".rendered_html {\n",
        "    font-family: Georgia, serif;\n",
        "    font-size: 130%;\n",
        "    line-height: 1.5;\n",
        "}\n",
        "\n",
        ".input {\n",
        "    width: 930px;\n",
        "}\n",
        "\n",
        ".inner_cell {\n",
        "    width: 800px;\n",
        "}\n",
        "\n",
        ".code_cell {\n",
        "    width: 800px;\n",
        "}\n",
        "\n",
        ".CodeMirror-sizer {\n",
        "}\n",
        "\n",
        "hr {\n",
        "    border: 1px solid #DDD;\n",
        "}\n",
        "\n",
        ".rendered_html h1 {\n",
        "    margin: 0.25em 0em 0.5em;\n",
        "    font-family: sans-serif;\n",
        "    color: #015C9C;\n",
        "    text-align: center;\n",
        "    line-height: 1.2;\n",
        "    page-break-before: always;\n",
        "}\n",
        "\n",
        ".rendered_html h2 {\n",
        "    margin: 1.1em 0em 0.5em;\n",
        "    font-family: sans-serif;\n",
        "    color: #26465D;\n",
        "    line-height: 1.2;\n",
        "}\n",
        "\n",
        ".rendered_html h3 {\n",
        "    font-family: sans-serif;\n",
        "    margin: 1.1em 0em 0.5em;\n",
        "    color: #002845;\n",
        "    line-height: 1.2;\n",
        "}\n",
        "\n",
        ".rendered_html li {\n",
        "    line-height: 1.5;\n",
        "}\n",
        "\n",
        ".CodeMirror-lines {\n",
        "    font-size: 110%;\n",
        "    line-height: 1.4em;\n",
        "    font-family: DejaVu Sans Mono, Consolas, Ubuntu, monospace;\n",
        "}\n",
        "\n",
        "h1.bigtitle {\n",
        "    margin: 4cm 1cm 4cm 1cm;\n",
        "    font-size: 300%;\n",
        "}\n",
        "\n",
        "h3.point {\n",
        "    font-size: 200%;\n",
        "    text-align: center;\n",
        "    margin: 2em 0em 2em 0em;\n",
        "    #26465D\n",
        "}\n",
        "\n",
        ".logo {\n",
        "    margin: 20px 0 20px 0;\n",
        "}\n",
        "\n",
        "a.anchor-link {\n",
        "    display: none;\n",
        "}\n",
        "\n",
        "h1.title {\n",
        "    font-size: 250%;\n",
        "}\n",
        "\n",
        ".exercize {\n",
        "    color: #738;\n",
        "}\n",
        "\n",
        "h2 .exercize {\n",
        "    font-style: italic;\n",
        "}\n",
        "\n",
        "</style>"
       ],
       "metadata": {},
       "output_type": "display_data",
       "text": [
        "<IPython.core.display.HTML object>"
       ]
      }
     ],
     "prompt_number": 45
    },
    {
     "cell_type": "code",
     "collapsed": true,
     "input": [],
     "language": "python",
     "metadata": {},
     "outputs": [],
     "prompt_number": null
    }
   ],
   "metadata": {}
  }
 ]
}